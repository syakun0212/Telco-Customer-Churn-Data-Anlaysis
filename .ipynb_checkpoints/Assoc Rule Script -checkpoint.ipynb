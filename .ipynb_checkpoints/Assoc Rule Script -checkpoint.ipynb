{
 "cells": [
  {
   "cell_type": "code",
   "execution_count": 1,
   "metadata": {},
   "outputs": [],
   "source": [
    "import math\n",
    "import pandas as pd\n",
    "import matplotlib.pyplot as plt \n",
    "import numpy as np\n",
    "import seaborn as sns\n",
    "import plotly.graph_objects as go\n",
    "import plotly.express as px\n",
    "from IPython.display import clear_output\n",
    "\n",
    "import folium\n",
    "from folium.plugins import MarkerCluster\n",
    "from folium import Choropleth, Circle, Marker\n",
    "from folium import plugins\n",
    "from folium.plugins import HeatMap\n",
    "\n",
    "import plotly.offline as py \n",
    "import plotly.graph_objects as go\n",
    "import plotly.express as px\n",
    "# py.init_notebook_mode(connected=True)\n",
    "\n",
    "# from matplotlib import rc\n",
    "# rc('text', usetex=True)\n",
    "\n",
    "pd.options.display.float_format = '{:,.3f}'.format\n",
    "pd.set_option('display.max_columns', None)\n",
    "pd.set_option('max_rows', 200)\n",
    "pd.set_option('display.max_colwidth', 150)\n",
    "\n",
    "%matplotlib inline"
   ]
  },
  {
   "cell_type": "code",
   "execution_count": null,
   "metadata": {},
   "outputs": [],
   "source": [
    "data_encoded = pd.read_csv(\"data_encoded.csv\")"
   ]
  },
  {
   "cell_type": "code",
   "execution_count": null,
   "metadata": {},
   "outputs": [],
   "source": [
    "phone_serivces = ['PhoneService','MultipleLines']\n",
    "internet_services = ['InternetService','InternetType','UnlimitedData', \n",
    "                            'StreamingTV', 'StreamingMovies', 'StreamingMusic'\n",
    "                             'OnlineSecurity','OnlineBackup',\n",
    "                            'DeviceProtectionPlan','PremiumTechSupport']\n",
    "other_services = ['PaperlessBilling','Contract']\n",
    "\n",
    "internet_services_encoded=['InternetService','UnlimitedData', 'InternetType_NA',\n",
    "                            'InternetType_DSL', 'InternetType_Cable', 'InternetType_Fiber Optic',\n",
    "                            'StreamingTV', 'StreamingMovies', 'StreamingMusic',\n",
    "                             'OnlineSecurity','OnlineBackup',\n",
    "                            'DeviceProtectionPlan','PremiumTechSupport']\n",
    "\n",
    "other_services_encoded=['PaperlessBilling',\n",
    "                       'Contract_Two year','Contract_One year','Contract_Month-to-month']\n",
    "\n",
    "# omitted variables: Offer, PaymentMethod\n",
    "# multicat = ['Offer', 'PaymentMethod', 'InternetType', 'Contract']\n",
    "\n",
    "all_services = phone_serivces+internet_services+other_services\n",
    "all_services_encoded = phone_serivces+internet_services_encoded+other_services_encoded"
   ]
  },
  {
   "cell_type": "code",
   "execution_count": null,
   "metadata": {},
   "outputs": [],
   "source": [
    "from mlxtend.frequent_patterns import apriori\n",
    "from mlxtend.frequent_patterns import association_rules\n",
    "\n",
    "min_sup=0.4\n",
    "min_thres=0.4\n",
    "\n",
    "print(\"Settings: \")\n",
    "print(\"min_support: \", min_sup)\n",
    "print(\"min_thres: \", min_thres)"
   ]
  },
  {
   "cell_type": "code",
   "execution_count": null,
   "metadata": {},
   "outputs": [],
   "source": [
    "# Assoc Rule for all services\n",
    "assoc_rule_data_all = data_encoded[all_services_encoded]\n",
    "assoc_rule_data_all = assoc_rule_data_all.replace('No internet service',0)\n",
    "assoc_rule_data_all = assoc_rule_data_all.replace('No phone service',0)\n",
    "item_all = apriori(assoc_rule_data_all, use_colnames=True, min_support=min_sup)\n",
    "assoc_rule_all = association_rules(item_all, metric = 'confidence', min_threshold=min_thres)\n",
    "\n",
    "# Assoc Rule for Internet service\n",
    "assoc_rule_data_internet = data_encoded[data_encoded['InternetService']==1][internet_services_encoded]\n",
    "assoc_rule_data_internet = assoc_rule_data_internet.drop('InternetType_NA',axis=1)\n",
    "item_internet = apriori(assoc_rule_data_internet, use_colnames=True, min_support=min_sup)\n",
    "assoc_rule_internet = association_rules(item_internet, metric = 'confidence', min_threshold=min_thres)\n",
    "\n",
    "# Assoc Rule for Internet service + others (paperless billing & contract)\n",
    "assoc_rule_data_internet_others = data_encoded[data_encoded['InternetService']==1][internet_services_encoded+other_services_encoded]\n",
    "assoc_rule_data_internet_others = assoc_rule_data_internet_others.drop('InternetType_NA',axis=1)\n",
    "item_internet_others = apriori(assoc_rule_data_internet_others, use_colnames=True, min_support=min_sup)\n",
    "assoc_rule_internet_others = association_rules(item_internet_others, metric = 'confidence', min_threshold=min_thres)\n",
    "\n",
    "# Assoc Rule for phone service + others (paperless billing & contract)\n",
    "assoc_rule_data_phone_others = data_encoded[data_encoded['PhoneService']==1][phone_serivces+other_services_encoded]\n",
    "item_phone_others = apriori(assoc_rule_data_phone_others, use_colnames=True, min_support=min_sup)\n",
    "assoc_rule_phone_others = association_rules(item_phone_others, metric = 'confidence', min_threshold=min_thres)"
   ]
  },
  {
   "cell_type": "code",
   "execution_count": null,
   "metadata": {},
   "outputs": [],
   "source": [
    "## Results DF Analysis - based on lift \n",
    "assoc_rule_all = assoc_rule_all.sort_values(\"lift\",ascending=False)\n",
    "assoc_rule_internet  = assoc_rule_internet .sort_values(\"lift\",ascending=False)\n",
    "assoc_rule_internet_others  = assoc_rule_internet_others .sort_values(\"lift\",ascending=False)\n",
    "assoc_rule_phone_others  = assoc_rule_phone_others .sort_values(\"lift\",ascending=False)"
   ]
  },
  {
   "cell_type": "code",
   "execution_count": null,
   "metadata": {},
   "outputs": [],
   "source": [
    "### Can add in another variation - where u explore in terms of churn = Yes/No"
   ]
  }
 ],
 "metadata": {
  "kernelspec": {
   "display_name": "Python 3",
   "language": "python",
   "name": "python3"
  },
  "language_info": {
   "codemirror_mode": {
    "name": "ipython",
    "version": 3
   },
   "file_extension": ".py",
   "mimetype": "text/x-python",
   "name": "python",
   "nbconvert_exporter": "python",
   "pygments_lexer": "ipython3",
   "version": "3.8.5"
  }
 },
 "nbformat": 4,
 "nbformat_minor": 4
}
